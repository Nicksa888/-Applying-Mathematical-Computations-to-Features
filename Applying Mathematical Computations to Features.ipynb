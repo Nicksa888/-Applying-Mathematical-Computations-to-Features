{
 "cells": [
  {
   "cell_type": "markdown",
   "id": "70d2fce6",
   "metadata": {},
   "source": [
    "# Applying Mathematical Computations to Features"
   ]
  },
  {
   "cell_type": "markdown",
   "id": "e3d547ab",
   "metadata": {},
   "source": [
    "New features can be created by combining two or more variables. Variables can be\n",
    "combined automatically or by using domain knowledge of the data and the industry. "
   ]
  },
  {
   "cell_type": "code",
   "execution_count": null,
   "id": "cd714f66",
   "metadata": {},
   "outputs": [],
   "source": [
    "import pandas as pd"
   ]
  },
  {
   "cell_type": "code",
   "execution_count": 36,
   "id": "7a8f96c6",
   "metadata": {},
   "outputs": [
    {
     "data": {
      "text/html": [
       "<div>\n",
       "<style scoped>\n",
       "    .dataframe tbody tr th:only-of-type {\n",
       "        vertical-align: middle;\n",
       "    }\n",
       "\n",
       "    .dataframe tbody tr th {\n",
       "        vertical-align: top;\n",
       "    }\n",
       "\n",
       "    .dataframe thead th {\n",
       "        text-align: right;\n",
       "    }\n",
       "</style>\n",
       "<table border=\"1\" class=\"dataframe\">\n",
       "  <thead>\n",
       "    <tr style=\"text-align: right;\">\n",
       "      <th></th>\n",
       "      <th>mean radius</th>\n",
       "      <th>mean texture</th>\n",
       "      <th>mean perimeter</th>\n",
       "      <th>mean area</th>\n",
       "      <th>mean smoothness</th>\n",
       "      <th>mean compactness</th>\n",
       "      <th>mean concavity</th>\n",
       "      <th>mean concave points</th>\n",
       "      <th>mean symmetry</th>\n",
       "      <th>mean fractal dimension</th>\n",
       "      <th>...</th>\n",
       "      <th>worst texture</th>\n",
       "      <th>worst perimeter</th>\n",
       "      <th>worst area</th>\n",
       "      <th>worst smoothness</th>\n",
       "      <th>worst compactness</th>\n",
       "      <th>worst concavity</th>\n",
       "      <th>worst concave points</th>\n",
       "      <th>worst symmetry</th>\n",
       "      <th>worst fractal dimension</th>\n",
       "      <th>target</th>\n",
       "    </tr>\n",
       "  </thead>\n",
       "  <tbody>\n",
       "    <tr>\n",
       "      <th>0</th>\n",
       "      <td>17.99</td>\n",
       "      <td>10.38</td>\n",
       "      <td>122.80</td>\n",
       "      <td>1001.0</td>\n",
       "      <td>0.11840</td>\n",
       "      <td>0.27760</td>\n",
       "      <td>0.3001</td>\n",
       "      <td>0.14710</td>\n",
       "      <td>0.2419</td>\n",
       "      <td>0.07871</td>\n",
       "      <td>...</td>\n",
       "      <td>17.33</td>\n",
       "      <td>184.60</td>\n",
       "      <td>2019.0</td>\n",
       "      <td>0.1622</td>\n",
       "      <td>0.6656</td>\n",
       "      <td>0.7119</td>\n",
       "      <td>0.2654</td>\n",
       "      <td>0.4601</td>\n",
       "      <td>0.11890</td>\n",
       "      <td>0</td>\n",
       "    </tr>\n",
       "    <tr>\n",
       "      <th>1</th>\n",
       "      <td>20.57</td>\n",
       "      <td>17.77</td>\n",
       "      <td>132.90</td>\n",
       "      <td>1326.0</td>\n",
       "      <td>0.08474</td>\n",
       "      <td>0.07864</td>\n",
       "      <td>0.0869</td>\n",
       "      <td>0.07017</td>\n",
       "      <td>0.1812</td>\n",
       "      <td>0.05667</td>\n",
       "      <td>...</td>\n",
       "      <td>23.41</td>\n",
       "      <td>158.80</td>\n",
       "      <td>1956.0</td>\n",
       "      <td>0.1238</td>\n",
       "      <td>0.1866</td>\n",
       "      <td>0.2416</td>\n",
       "      <td>0.1860</td>\n",
       "      <td>0.2750</td>\n",
       "      <td>0.08902</td>\n",
       "      <td>0</td>\n",
       "    </tr>\n",
       "    <tr>\n",
       "      <th>2</th>\n",
       "      <td>19.69</td>\n",
       "      <td>21.25</td>\n",
       "      <td>130.00</td>\n",
       "      <td>1203.0</td>\n",
       "      <td>0.10960</td>\n",
       "      <td>0.15990</td>\n",
       "      <td>0.1974</td>\n",
       "      <td>0.12790</td>\n",
       "      <td>0.2069</td>\n",
       "      <td>0.05999</td>\n",
       "      <td>...</td>\n",
       "      <td>25.53</td>\n",
       "      <td>152.50</td>\n",
       "      <td>1709.0</td>\n",
       "      <td>0.1444</td>\n",
       "      <td>0.4245</td>\n",
       "      <td>0.4504</td>\n",
       "      <td>0.2430</td>\n",
       "      <td>0.3613</td>\n",
       "      <td>0.08758</td>\n",
       "      <td>0</td>\n",
       "    </tr>\n",
       "    <tr>\n",
       "      <th>3</th>\n",
       "      <td>11.42</td>\n",
       "      <td>20.38</td>\n",
       "      <td>77.58</td>\n",
       "      <td>386.1</td>\n",
       "      <td>0.14250</td>\n",
       "      <td>0.28390</td>\n",
       "      <td>0.2414</td>\n",
       "      <td>0.10520</td>\n",
       "      <td>0.2597</td>\n",
       "      <td>0.09744</td>\n",
       "      <td>...</td>\n",
       "      <td>26.50</td>\n",
       "      <td>98.87</td>\n",
       "      <td>567.7</td>\n",
       "      <td>0.2098</td>\n",
       "      <td>0.8663</td>\n",
       "      <td>0.6869</td>\n",
       "      <td>0.2575</td>\n",
       "      <td>0.6638</td>\n",
       "      <td>0.17300</td>\n",
       "      <td>0</td>\n",
       "    </tr>\n",
       "    <tr>\n",
       "      <th>4</th>\n",
       "      <td>20.29</td>\n",
       "      <td>14.34</td>\n",
       "      <td>135.10</td>\n",
       "      <td>1297.0</td>\n",
       "      <td>0.10030</td>\n",
       "      <td>0.13280</td>\n",
       "      <td>0.1980</td>\n",
       "      <td>0.10430</td>\n",
       "      <td>0.1809</td>\n",
       "      <td>0.05883</td>\n",
       "      <td>...</td>\n",
       "      <td>16.67</td>\n",
       "      <td>152.20</td>\n",
       "      <td>1575.0</td>\n",
       "      <td>0.1374</td>\n",
       "      <td>0.2050</td>\n",
       "      <td>0.4000</td>\n",
       "      <td>0.1625</td>\n",
       "      <td>0.2364</td>\n",
       "      <td>0.07678</td>\n",
       "      <td>0</td>\n",
       "    </tr>\n",
       "  </tbody>\n",
       "</table>\n",
       "<p>5 rows × 31 columns</p>\n",
       "</div>"
      ],
      "text/plain": [
       "   mean radius  mean texture  mean perimeter  mean area  mean smoothness  \\\n",
       "0        17.99         10.38          122.80     1001.0          0.11840   \n",
       "1        20.57         17.77          132.90     1326.0          0.08474   \n",
       "2        19.69         21.25          130.00     1203.0          0.10960   \n",
       "3        11.42         20.38           77.58      386.1          0.14250   \n",
       "4        20.29         14.34          135.10     1297.0          0.10030   \n",
       "\n",
       "   mean compactness  mean concavity  mean concave points  mean symmetry  \\\n",
       "0           0.27760          0.3001              0.14710         0.2419   \n",
       "1           0.07864          0.0869              0.07017         0.1812   \n",
       "2           0.15990          0.1974              0.12790         0.2069   \n",
       "3           0.28390          0.2414              0.10520         0.2597   \n",
       "4           0.13280          0.1980              0.10430         0.1809   \n",
       "\n",
       "   mean fractal dimension  ...  worst texture  worst perimeter  worst area  \\\n",
       "0                 0.07871  ...          17.33           184.60      2019.0   \n",
       "1                 0.05667  ...          23.41           158.80      1956.0   \n",
       "2                 0.05999  ...          25.53           152.50      1709.0   \n",
       "3                 0.09744  ...          26.50            98.87       567.7   \n",
       "4                 0.05883  ...          16.67           152.20      1575.0   \n",
       "\n",
       "   worst smoothness  worst compactness  worst concavity  worst concave points  \\\n",
       "0            0.1622             0.6656           0.7119                0.2654   \n",
       "1            0.1238             0.1866           0.2416                0.1860   \n",
       "2            0.1444             0.4245           0.4504                0.2430   \n",
       "3            0.2098             0.8663           0.6869                0.2575   \n",
       "4            0.1374             0.2050           0.4000                0.1625   \n",
       "\n",
       "   worst symmetry  worst fractal dimension  target  \n",
       "0          0.4601                  0.11890       0  \n",
       "1          0.2750                  0.08902       0  \n",
       "2          0.3613                  0.08758       0  \n",
       "3          0.6638                  0.17300       0  \n",
       "4          0.2364                  0.07678       0  \n",
       "\n",
       "[5 rows x 31 columns]"
      ]
     },
     "execution_count": 36,
     "metadata": {},
     "output_type": "execute_result"
    }
   ],
   "source": [
    "# Load BC Data Set\n",
    "BC = pd.read_csv('C:/Python_Data_Sets/BC.csv')\n",
    "BC.head()"
   ]
  },
  {
   "cell_type": "markdown",
   "id": "2a99356f",
   "metadata": {},
   "source": [
    "## Combining multiple features with statistical operations"
   ]
  },
  {
   "cell_type": "markdown",
   "id": "45d8429e",
   "metadata": {},
   "source": [
    "Let's begin by creating a list with the subset of features to which we will apply\n",
    "the different mathematical operations:"
   ]
  },
  {
   "cell_type": "code",
   "execution_count": 22,
   "id": "abd3e9ee",
   "metadata": {},
   "outputs": [],
   "source": [
    "features = ['mean smoothness', 'mean compactness',\n",
    " 'mean concavity', 'mean concave points',\n",
    " 'mean symmetry']"
   ]
  },
  {
   "cell_type": "code",
   "execution_count": 32,
   "id": "e9f8239e",
   "metadata": {},
   "outputs": [],
   "source": [
    "BC_t = BC[features].agg(['sum', 'prod', 'mean', 'std', 'max', 'min'], axis = 'columns')"
   ]
  },
  {
   "cell_type": "code",
   "execution_count": 34,
   "id": "b650d4a2",
   "metadata": {},
   "outputs": [
    {
     "name": "stdout",
     "output_type": "stream",
     "text": [
      "sum\n",
      "prod\n",
      "mean\n",
      "std\n",
      "max\n",
      "min\n"
     ]
    }
   ],
   "source": [
    "# Get all column names \n",
    "for col_name in BC_t.columns: \n",
    "    print(col_name)"
   ]
  },
  {
   "cell_type": "code",
   "execution_count": 35,
   "id": "7e9380e6",
   "metadata": {},
   "outputs": [
    {
     "data": {
      "text/plain": [
       "<bound method NDFrame.head of          sum      prod      mean       std     max      min\n",
       "0    1.08510  0.000351  0.217020  0.080321  0.3001  0.11840\n",
       "1    0.50165  0.000007  0.100330  0.045671  0.1812  0.07017\n",
       "2    0.80170  0.000092  0.160340  0.042333  0.2069  0.10960\n",
       "3    1.03270  0.000267  0.206540  0.078097  0.2839  0.10520\n",
       "4    0.71630  0.000050  0.143260  0.044402  0.1980  0.10030\n",
       "..       ...       ...       ...       ...     ...      ...\n",
       "564  0.78230  0.000075  0.156460  0.054604  0.2439  0.11100\n",
       "565  0.61831  0.000025  0.123662  0.034686  0.1752  0.09780\n",
       "566  0.49138  0.000007  0.098276  0.038644  0.1590  0.05302\n",
       "567  1.13790  0.000418  0.227580  0.094452  0.3514  0.11780\n",
       "568  0.25495  0.000000  0.050990  0.064920  0.1587  0.00000\n",
       "\n",
       "[569 rows x 6 columns]>"
      ]
     },
     "execution_count": 35,
     "metadata": {},
     "output_type": "execute_result"
    }
   ],
   "source": [
    "BC_t.head"
   ]
  },
  {
   "cell_type": "markdown",
   "id": "52c4bf57",
   "metadata": {},
   "source": [
    "## Visualize New Features to Determine Value of Information"
   ]
  },
  {
   "cell_type": "code",
   "execution_count": 33,
   "id": "b65c273e",
   "metadata": {},
   "outputs": [],
   "source": [
    "import matplotlib.pyplot as plt\n",
    "import seaborn as sns"
   ]
  },
  {
   "cell_type": "markdown",
   "id": "69fa820e",
   "metadata": {},
   "source": [
    "Create a violin plot of the newly created feature:"
   ]
  },
  {
   "cell_type": "code",
   "execution_count": 37,
   "id": "0d20ca9c",
   "metadata": {},
   "outputs": [
    {
     "data": {
      "image/png": "[encoded data removed]",
      "text/plain": [
       "<Figure size 432x288 with 1 Axes>"
      ]
     },
     "metadata": {
      "needs_background": "light"
     },
     "output_type": "display_data"
    }
   ],
   "source": [
    "BC['added_features'] = BC[features].sum(axis=1)\n",
    "sns.violinplot(x = \"target\", y = \"added_features\", data = BC)\n",
    "plt.title('Added Features')\n",
    "plt.show()"
   ]
  },
  {
   "cell_type": "markdown",
   "id": "c8c2d632",
   "metadata": {},
   "source": [
    "The preceding code block returns the above plot, where we can see that the distribution\n",
    "of the newly created feature is different between cancerous and normal tumors:"
   ]
  },
  {
   "cell_type": "markdown",
   "id": "dd2dfbc5",
   "metadata": {},
   "source": [
    "## Combining pairs of features with mathematical functions"
   ]
  },
  {
   "cell_type": "markdown",
   "id": "ea743ee9",
   "metadata": {},
   "source": [
    "Some mathematical\n",
    "operations, however, such as subtraction or division, make more sense when performed\n",
    "between two features, or when considering multiple features against one reference variable.\n",
    "These operations are very useful to derive ratios"
   ]
  },
  {
   "cell_type": "code",
   "execution_count": null,
   "id": "ea41e1c6",
   "metadata": {},
   "outputs": [],
   "source": [
    "import pandas as pd"
   ]
  },
  {
   "cell_type": "code",
   "execution_count": 38,
   "id": "ff1d3106",
   "metadata": {},
   "outputs": [
    {
     "data": {
      "text/html": [
       "<div>\n",
       "<style scoped>\n",
       "    .dataframe tbody tr th:only-of-type {\n",
       "        vertical-align: middle;\n",
       "    }\n",
       "\n",
       "    .dataframe tbody tr th {\n",
       "        vertical-align: top;\n",
       "    }\n",
       "\n",
       "    .dataframe thead th {\n",
       "        text-align: right;\n",
       "    }\n",
       "</style>\n",
       "<table border=\"1\" class=\"dataframe\">\n",
       "  <thead>\n",
       "    <tr style=\"text-align: right;\">\n",
       "      <th></th>\n",
       "      <th>mean radius</th>\n",
       "      <th>mean texture</th>\n",
       "      <th>mean perimeter</th>\n",
       "      <th>mean area</th>\n",
       "      <th>mean smoothness</th>\n",
       "      <th>mean compactness</th>\n",
       "      <th>mean concavity</th>\n",
       "      <th>mean concave points</th>\n",
       "      <th>mean symmetry</th>\n",
       "      <th>mean fractal dimension</th>\n",
       "      <th>...</th>\n",
       "      <th>worst texture</th>\n",
       "      <th>worst perimeter</th>\n",
       "      <th>worst area</th>\n",
       "      <th>worst smoothness</th>\n",
       "      <th>worst compactness</th>\n",
       "      <th>worst concavity</th>\n",
       "      <th>worst concave points</th>\n",
       "      <th>worst symmetry</th>\n",
       "      <th>worst fractal dimension</th>\n",
       "      <th>target</th>\n",
       "    </tr>\n",
       "  </thead>\n",
       "  <tbody>\n",
       "    <tr>\n",
       "      <th>0</th>\n",
       "      <td>17.99</td>\n",
       "      <td>10.38</td>\n",
       "      <td>122.80</td>\n",
       "      <td>1001.0</td>\n",
       "      <td>0.11840</td>\n",
       "      <td>0.27760</td>\n",
       "      <td>0.3001</td>\n",
       "      <td>0.14710</td>\n",
       "      <td>0.2419</td>\n",
       "      <td>0.07871</td>\n",
       "      <td>...</td>\n",
       "      <td>17.33</td>\n",
       "      <td>184.60</td>\n",
       "      <td>2019.0</td>\n",
       "      <td>0.1622</td>\n",
       "      <td>0.6656</td>\n",
       "      <td>0.7119</td>\n",
       "      <td>0.2654</td>\n",
       "      <td>0.4601</td>\n",
       "      <td>0.11890</td>\n",
       "      <td>0</td>\n",
       "    </tr>\n",
       "    <tr>\n",
       "      <th>1</th>\n",
       "      <td>20.57</td>\n",
       "      <td>17.77</td>\n",
       "      <td>132.90</td>\n",
       "      <td>1326.0</td>\n",
       "      <td>0.08474</td>\n",
       "      <td>0.07864</td>\n",
       "      <td>0.0869</td>\n",
       "      <td>0.07017</td>\n",
       "      <td>0.1812</td>\n",
       "      <td>0.05667</td>\n",
       "      <td>...</td>\n",
       "      <td>23.41</td>\n",
       "      <td>158.80</td>\n",
       "      <td>1956.0</td>\n",
       "      <td>0.1238</td>\n",
       "      <td>0.1866</td>\n",
       "      <td>0.2416</td>\n",
       "      <td>0.1860</td>\n",
       "      <td>0.2750</td>\n",
       "      <td>0.08902</td>\n",
       "      <td>0</td>\n",
       "    </tr>\n",
       "    <tr>\n",
       "      <th>2</th>\n",
       "      <td>19.69</td>\n",
       "      <td>21.25</td>\n",
       "      <td>130.00</td>\n",
       "      <td>1203.0</td>\n",
       "      <td>0.10960</td>\n",
       "      <td>0.15990</td>\n",
       "      <td>0.1974</td>\n",
       "      <td>0.12790</td>\n",
       "      <td>0.2069</td>\n",
       "      <td>0.05999</td>\n",
       "      <td>...</td>\n",
       "      <td>25.53</td>\n",
       "      <td>152.50</td>\n",
       "      <td>1709.0</td>\n",
       "      <td>0.1444</td>\n",
       "      <td>0.4245</td>\n",
       "      <td>0.4504</td>\n",
       "      <td>0.2430</td>\n",
       "      <td>0.3613</td>\n",
       "      <td>0.08758</td>\n",
       "      <td>0</td>\n",
       "    </tr>\n",
       "    <tr>\n",
       "      <th>3</th>\n",
       "      <td>11.42</td>\n",
       "      <td>20.38</td>\n",
       "      <td>77.58</td>\n",
       "      <td>386.1</td>\n",
       "      <td>0.14250</td>\n",
       "      <td>0.28390</td>\n",
       "      <td>0.2414</td>\n",
       "      <td>0.10520</td>\n",
       "      <td>0.2597</td>\n",
       "      <td>0.09744</td>\n",
       "      <td>...</td>\n",
       "      <td>26.50</td>\n",
       "      <td>98.87</td>\n",
       "      <td>567.7</td>\n",
       "      <td>0.2098</td>\n",
       "      <td>0.8663</td>\n",
       "      <td>0.6869</td>\n",
       "      <td>0.2575</td>\n",
       "      <td>0.6638</td>\n",
       "      <td>0.17300</td>\n",
       "      <td>0</td>\n",
       "    </tr>\n",
       "    <tr>\n",
       "      <th>4</th>\n",
       "      <td>20.29</td>\n",
       "      <td>14.34</td>\n",
       "      <td>135.10</td>\n",
       "      <td>1297.0</td>\n",
       "      <td>0.10030</td>\n",
       "      <td>0.13280</td>\n",
       "      <td>0.1980</td>\n",
       "      <td>0.10430</td>\n",
       "      <td>0.1809</td>\n",
       "      <td>0.05883</td>\n",
       "      <td>...</td>\n",
       "      <td>16.67</td>\n",
       "      <td>152.20</td>\n",
       "      <td>1575.0</td>\n",
       "      <td>0.1374</td>\n",
       "      <td>0.2050</td>\n",
       "      <td>0.4000</td>\n",
       "      <td>0.1625</td>\n",
       "      <td>0.2364</td>\n",
       "      <td>0.07678</td>\n",
       "      <td>0</td>\n",
       "    </tr>\n",
       "  </tbody>\n",
       "</table>\n",
       "<p>5 rows × 31 columns</p>\n",
       "</div>"
      ],
      "text/plain": [
       "   mean radius  mean texture  mean perimeter  mean area  mean smoothness  \\\n",
       "0        17.99         10.38          122.80     1001.0          0.11840   \n",
       "1        20.57         17.77          132.90     1326.0          0.08474   \n",
       "2        19.69         21.25          130.00     1203.0          0.10960   \n",
       "3        11.42         20.38           77.58      386.1          0.14250   \n",
       "4        20.29         14.34          135.10     1297.0          0.10030   \n",
       "\n",
       "   mean compactness  mean concavity  mean concave points  mean symmetry  \\\n",
       "0           0.27760          0.3001              0.14710         0.2419   \n",
       "1           0.07864          0.0869              0.07017         0.1812   \n",
       "2           0.15990          0.1974              0.12790         0.2069   \n",
       "3           0.28390          0.2414              0.10520         0.2597   \n",
       "4           0.13280          0.1980              0.10430         0.1809   \n",
       "\n",
       "   mean fractal dimension  ...  worst texture  worst perimeter  worst area  \\\n",
       "0                 0.07871  ...          17.33           184.60      2019.0   \n",
       "1                 0.05667  ...          23.41           158.80      1956.0   \n",
       "2                 0.05999  ...          25.53           152.50      1709.0   \n",
       "3                 0.09744  ...          26.50            98.87       567.7   \n",
       "4                 0.05883  ...          16.67           152.20      1575.0   \n",
       "\n",
       "   worst smoothness  worst compactness  worst concavity  worst concave points  \\\n",
       "0            0.1622             0.6656           0.7119                0.2654   \n",
       "1            0.1238             0.1866           0.2416                0.1860   \n",
       "2            0.1444             0.4245           0.4504                0.2430   \n",
       "3            0.2098             0.8663           0.6869                0.2575   \n",
       "4            0.1374             0.2050           0.4000                0.1625   \n",
       "\n",
       "   worst symmetry  worst fractal dimension  target  \n",
       "0          0.4601                  0.11890       0  \n",
       "1          0.2750                  0.08902       0  \n",
       "2          0.3613                  0.08758       0  \n",
       "3          0.6638                  0.17300       0  \n",
       "4          0.2364                  0.07678       0  \n",
       "\n",
       "[5 rows x 31 columns]"
      ]
     },
     "execution_count": 38,
     "metadata": {},
     "output_type": "execute_result"
    }
   ],
   "source": [
    "# Load BC Data Set\n",
    "BC = pd.read_csv('C:/Python_Data_Sets/BC.csv')\n",
    "BC.head()"
   ]
  },
  {
   "cell_type": "markdown",
   "id": "8083916d",
   "metadata": {},
   "source": [
    "Let's now capture the difference between two features in a new variable:"
   ]
  },
  {
   "cell_type": "code",
   "execution_count": 40,
   "id": "b978c99a",
   "metadata": {},
   "outputs": [],
   "source": [
    "BC['difference'] = BC['worst compactness'].sub(BC['mean compactness'])"
   ]
  },
  {
   "cell_type": "markdown",
   "id": "061781b5",
   "metadata": {},
   "source": [
    "We can perform the same calculation with this command:"
   ]
  },
  {
   "cell_type": "code",
   "execution_count": 42,
   "id": "e0989021",
   "metadata": {},
   "outputs": [],
   "source": [
    "BC['difference'] = BC['worst compactness'] - (BC['mean compactness'])"
   ]
  },
  {
   "cell_type": "markdown",
   "id": "9b699546",
   "metadata": {},
   "source": [
    "Let's now create a new feature with the ratio between two variables:"
   ]
  },
  {
   "cell_type": "code",
   "execution_count": 43,
   "id": "de3b79db",
   "metadata": {},
   "outputs": [],
   "source": [
    "BC['quotient'] = BC['worst radius'].div(BC['mean radius'])"
   ]
  },
  {
   "cell_type": "markdown",
   "id": "2dea1dcb",
   "metadata": {},
   "source": [
    "We can calculate the ratio with the alternative command:"
   ]
  },
  {
   "cell_type": "code",
   "execution_count": null,
   "id": "9c8b13fe",
   "metadata": {},
   "outputs": [],
   "source": [
    "BC['quotient'] = BC['worst radius'] / (BC['mean radius'])"
   ]
  },
  {
   "cell_type": "markdown",
   "id": "2b8d97f0",
   "metadata": {},
   "source": [
    "Next, we will compare a group of features to the aggregated view of another\n",
    "subset of features. Let's begin by capturing these subsets of variables into lists. Make a list of the features we want to compare:"
   ]
  },
  {
   "cell_type": "code",
   "execution_count": 44,
   "id": "428a0b30",
   "metadata": {},
   "outputs": [],
   "source": [
    "features = ['mean smoothness', 'mean compactness', 'mean concavity', 'mean concave points', 'mean symmetry']"
   ]
  },
  {
   "cell_type": "markdown",
   "id": "0e12fa7f",
   "metadata": {},
   "source": [
    "Make a list of the features we want to aggregate:"
   ]
  },
  {
   "cell_type": "code",
   "execution_count": 45,
   "id": "702b459e",
   "metadata": {},
   "outputs": [],
   "source": [
    "worst_f = ['worst smoothness', 'worst compactness', 'worst concavity', 'worst concave points', 'worst symmetry']"
   ]
  },
  {
   "cell_type": "markdown",
   "id": "ace412fa",
   "metadata": {},
   "source": [
    "Create a new feature with the sum of the features in the previous step:"
   ]
  },
  {
   "cell_type": "code",
   "execution_count": 46,
   "id": "7ac2fef4",
   "metadata": {},
   "outputs": [],
   "source": [
    "BC['worst'] = BC[worst_f].sum(axis = 1)"
   ]
  },
  {
   "cell_type": "markdown",
   "id": "2762a5a0",
   "metadata": {},
   "source": [
    "Let's obtain the ratio between each one of the features we collectively listed and the feature we just created named worst:"
   ]
  },
  {
   "cell_type": "code",
   "execution_count": 47,
   "id": "c7aa112a",
   "metadata": {},
   "outputs": [],
   "source": [
    "BC[features] = BC[features].div(BC['worst'], axis = 0)"
   ]
  },
  {
   "cell_type": "markdown",
   "id": "322755c6",
   "metadata": {},
   "source": [
    "## Performing polynomial expansion"
   ]
  },
  {
   "cell_type": "markdown",
   "id": "42aad385",
   "metadata": {},
   "source": [
    "Existing variables can be combined to create new insightful features. A combination of one feature with itself, that is, a\n",
    "polynomial combination of the same feature, can also be quite informative or increase the\n",
    "predictive power of our algorithms. For example, in cases where the target follows a\n",
    "quadratic relationship with a variable, creating a second degree polynomial of the feature\n",
    "allows us to use it in a linear model. Polynomial expansion serves to automate the creation of new features, to capture feature\n",
    "interaction, and to capture potential non-linear relationships between the original variables\n",
    "and the target. The user determines which features to combine and which polynomial\n",
    "degree to use. Keep in mind that high polynomial degrees or a large number of features\n",
    "to combine will return an enormous number of new features. The PolynomialFeatures() transformer from scikit-learn creates all polynomial\n",
    "combinations of the features with a degree less than or equal to the specified degree,\n",
    "automatically. Let's first understand the output of the\n",
    "PolynomialFeatures() transformer from scikit-learn, when used with second and third\n",
    "degree in a dataset with three variables."
   ]
  },
  {
   "cell_type": "code",
   "execution_count": 48,
   "id": "ef345bb0",
   "metadata": {},
   "outputs": [],
   "source": [
    "import pandas as pd\n",
    "from sklearn.datasets import load_boston\n",
    "from sklearn.model_selection import train_test_split\n",
    "from sklearn.preprocessing import PolynomialFeatures"
   ]
  },
  {
   "cell_type": "code",
   "execution_count": 49,
   "id": "08d94c3e",
   "metadata": {},
   "outputs": [
    {
     "data": {
      "text/html": [
       "<div>\n",
       "<style scoped>\n",
       "    .dataframe tbody tr th:only-of-type {\n",
       "        vertical-align: middle;\n",
       "    }\n",
       "\n",
       "    .dataframe tbody tr th {\n",
       "        vertical-align: top;\n",
       "    }\n",
       "\n",
       "    .dataframe thead th {\n",
       "        text-align: right;\n",
       "    }\n",
       "</style>\n",
       "<table border=\"1\" class=\"dataframe\">\n",
       "  <thead>\n",
       "    <tr style=\"text-align: right;\">\n",
       "      <th></th>\n",
       "      <th>CRIM</th>\n",
       "      <th>ZN</th>\n",
       "      <th>INDUS</th>\n",
       "      <th>CHAS</th>\n",
       "      <th>NOX</th>\n",
       "      <th>RM</th>\n",
       "      <th>AGE</th>\n",
       "      <th>DIS</th>\n",
       "      <th>RAD</th>\n",
       "      <th>TAX</th>\n",
       "      <th>PTRATIO</th>\n",
       "      <th>B</th>\n",
       "      <th>LSTAT</th>\n",
       "      <th>MEDV</th>\n",
       "    </tr>\n",
       "  </thead>\n",
       "  <tbody>\n",
       "    <tr>\n",
       "      <th>0</th>\n",
       "      <td>0.00632</td>\n",
       "      <td>18.0</td>\n",
       "      <td>2.31</td>\n",
       "      <td>0</td>\n",
       "      <td>0.538</td>\n",
       "      <td>6.575</td>\n",
       "      <td>65.2</td>\n",
       "      <td>4.0900</td>\n",
       "      <td>1</td>\n",
       "      <td>296</td>\n",
       "      <td>15.3</td>\n",
       "      <td>396.90</td>\n",
       "      <td>4.98</td>\n",
       "      <td>24.0</td>\n",
       "    </tr>\n",
       "    <tr>\n",
       "      <th>1</th>\n",
       "      <td>0.02731</td>\n",
       "      <td>0.0</td>\n",
       "      <td>7.07</td>\n",
       "      <td>0</td>\n",
       "      <td>0.469</td>\n",
       "      <td>6.421</td>\n",
       "      <td>78.9</td>\n",
       "      <td>4.9671</td>\n",
       "      <td>2</td>\n",
       "      <td>242</td>\n",
       "      <td>17.8</td>\n",
       "      <td>396.90</td>\n",
       "      <td>9.14</td>\n",
       "      <td>21.6</td>\n",
       "    </tr>\n",
       "    <tr>\n",
       "      <th>2</th>\n",
       "      <td>0.02729</td>\n",
       "      <td>0.0</td>\n",
       "      <td>7.07</td>\n",
       "      <td>0</td>\n",
       "      <td>0.469</td>\n",
       "      <td>7.185</td>\n",
       "      <td>61.1</td>\n",
       "      <td>4.9671</td>\n",
       "      <td>2</td>\n",
       "      <td>242</td>\n",
       "      <td>17.8</td>\n",
       "      <td>392.83</td>\n",
       "      <td>4.03</td>\n",
       "      <td>34.7</td>\n",
       "    </tr>\n",
       "    <tr>\n",
       "      <th>3</th>\n",
       "      <td>0.03237</td>\n",
       "      <td>0.0</td>\n",
       "      <td>2.18</td>\n",
       "      <td>0</td>\n",
       "      <td>0.458</td>\n",
       "      <td>6.998</td>\n",
       "      <td>45.8</td>\n",
       "      <td>6.0622</td>\n",
       "      <td>3</td>\n",
       "      <td>222</td>\n",
       "      <td>18.7</td>\n",
       "      <td>394.63</td>\n",
       "      <td>2.94</td>\n",
       "      <td>33.4</td>\n",
       "    </tr>\n",
       "    <tr>\n",
       "      <th>4</th>\n",
       "      <td>0.06905</td>\n",
       "      <td>0.0</td>\n",
       "      <td>2.18</td>\n",
       "      <td>0</td>\n",
       "      <td>0.458</td>\n",
       "      <td>7.147</td>\n",
       "      <td>54.2</td>\n",
       "      <td>6.0622</td>\n",
       "      <td>3</td>\n",
       "      <td>222</td>\n",
       "      <td>18.7</td>\n",
       "      <td>396.90</td>\n",
       "      <td>5.33</td>\n",
       "      <td>36.2</td>\n",
       "    </tr>\n",
       "  </tbody>\n",
       "</table>\n",
       "</div>"
      ],
      "text/plain": [
       "      CRIM    ZN  INDUS  CHAS    NOX     RM   AGE     DIS  RAD  TAX  PTRATIO  \\\n",
       "0  0.00632  18.0   2.31     0  0.538  6.575  65.2  4.0900    1  296     15.3   \n",
       "1  0.02731   0.0   7.07     0  0.469  6.421  78.9  4.9671    2  242     17.8   \n",
       "2  0.02729   0.0   7.07     0  0.469  7.185  61.1  4.9671    2  242     17.8   \n",
       "3  0.03237   0.0   2.18     0  0.458  6.998  45.8  6.0622    3  222     18.7   \n",
       "4  0.06905   0.0   2.18     0  0.458  7.147  54.2  6.0622    3  222     18.7   \n",
       "\n",
       "        B  LSTAT  MEDV  \n",
       "0  396.90   4.98  24.0  \n",
       "1  396.90   9.14  21.6  \n",
       "2  392.83   4.03  34.7  \n",
       "3  394.63   2.94  33.4  \n",
       "4  396.90   5.33  36.2  "
      ]
     },
     "execution_count": 49,
     "metadata": {},
     "output_type": "execute_result"
    }
   ],
   "source": [
    "# Load Boston Data Set\n",
    "Boston = pd.read_csv('C:/Python_Data_Sets/Boston.csv')\n",
    "Boston.head()"
   ]
  },
  {
   "cell_type": "code",
   "execution_count": 51,
   "id": "e3304e53",
   "metadata": {},
   "outputs": [],
   "source": [
    "X_train, X_test, y_train, y_test = train_test_split(\n",
    " Boston.drop('MEDV', axis = 1), Boston['MEDV'], test_size = 0.3, random_state = 0)"
   ]
  },
  {
   "cell_type": "markdown",
   "id": "61c464ab",
   "metadata": {},
   "source": [
    "Let's begin with the feature creation by polynomial expansion. Let's set up the polynomial expansion transformer from scikit-learn, to create features by polynomial combination of a degree less than or equal to 3:"
   ]
  },
  {
   "cell_type": "code",
   "execution_count": 52,
   "id": "088202f2",
   "metadata": {},
   "outputs": [],
   "source": [
    "poly = PolynomialFeatures(degree = 3, interaction_only = False, include_bias = False)"
   ]
  },
  {
   "cell_type": "code",
   "execution_count": null,
   "id": "21da6fcd",
   "metadata": {},
   "outputs": [],
   "source": [
    "Let's fit the transformer to the train set so that it learns all of the possible\n",
    "polynomial combinations of three of the variables:"
   ]
  },
  {
   "cell_type": "code",
   "execution_count": 53,
   "id": "9f8e10b9",
   "metadata": {},
   "outputs": [
    {
     "data": {
      "text/plain": [
       "PolynomialFeatures(degree=3, include_bias=False)"
      ]
     },
     "execution_count": 53,
     "metadata": {},
     "output_type": "execute_result"
    }
   ],
   "source": [
    "poly.fit(X_train[['LSTAT', 'RM', 'NOX']])"
   ]
  },
  {
   "cell_type": "markdown",
   "id": "ca22445f",
   "metadata": {},
   "source": [
    "Let's now create the new polynomial features in a new dataset:"
   ]
  },
  {
   "cell_type": "code",
   "execution_count": 54,
   "id": "feab4760",
   "metadata": {},
   "outputs": [],
   "source": [
    "train_t = poly.transform(X_train[['LSTAT', 'RM', 'NOX']])\n",
    "test_t = poly.transform(X_test[['LSTAT', 'RM', 'NOX']])"
   ]
  },
  {
   "cell_type": "markdown",
   "id": "824ac4f1",
   "metadata": {},
   "source": [
    "Remember that scikit-learn returns NumPy arrays without the feature\n",
    "names, hence train_t and test_t are NumPy arrays. Let's examine the names of the features created in in test_t and train_t"
   ]
  },
  {
   "cell_type": "code",
   "execution_count": 56,
   "id": "a71d0a90",
   "metadata": {},
   "outputs": [
    {
     "data": {
      "text/plain": [
       "array(['LSTAT', 'RM', 'NOX', 'LSTAT^2', 'LSTAT RM', 'LSTAT NOX', 'RM^2',\n",
       "       'RM NOX', 'NOX^2', 'LSTAT^3', 'LSTAT^2 RM', 'LSTAT^2 NOX',\n",
       "       'LSTAT RM^2', 'LSTAT RM NOX', 'LSTAT NOX^2', 'RM^3', 'RM^2 NOX',\n",
       "       'RM NOX^2', 'NOX^3'], dtype=object)"
      ]
     },
     "execution_count": 56,
     "metadata": {},
     "output_type": "execute_result"
    }
   ],
   "source": [
    "poly.get_feature_names_out(['LSTAT', 'RM', 'NOX'])"
   ]
  },
  {
   "cell_type": "markdown",
   "id": "aa8249c5",
   "metadata": {},
   "source": [
    "The preceding code returns a list with the names of each feature combination after\n",
    "the polynomial expansion. Finally, we can capture the arrays with the polynomial features in a dataframe as\n",
    "follows:"
   ]
  },
  {
   "cell_type": "code",
   "execution_count": 59,
   "id": "b5bd38f5",
   "metadata": {},
   "outputs": [
    {
     "data": {
      "text/html": [
       "<div>\n",
       "<style scoped>\n",
       "    .dataframe tbody tr th:only-of-type {\n",
       "        vertical-align: middle;\n",
       "    }\n",
       "\n",
       "    .dataframe tbody tr th {\n",
       "        vertical-align: top;\n",
       "    }\n",
       "\n",
       "    .dataframe thead th {\n",
       "        text-align: right;\n",
       "    }\n",
       "</style>\n",
       "<table border=\"1\" class=\"dataframe\">\n",
       "  <thead>\n",
       "    <tr style=\"text-align: right;\">\n",
       "      <th></th>\n",
       "      <th>LSTAT</th>\n",
       "      <th>RM</th>\n",
       "      <th>NOX</th>\n",
       "      <th>LSTAT^2</th>\n",
       "      <th>LSTAT RM</th>\n",
       "      <th>LSTAT NOX</th>\n",
       "      <th>RM^2</th>\n",
       "      <th>RM NOX</th>\n",
       "      <th>NOX^2</th>\n",
       "      <th>LSTAT^3</th>\n",
       "      <th>LSTAT^2 RM</th>\n",
       "      <th>LSTAT^2 NOX</th>\n",
       "      <th>LSTAT RM^2</th>\n",
       "      <th>LSTAT RM NOX</th>\n",
       "      <th>LSTAT NOX^2</th>\n",
       "      <th>RM^3</th>\n",
       "      <th>RM^2 NOX</th>\n",
       "      <th>RM NOX^2</th>\n",
       "      <th>NOX^3</th>\n",
       "    </tr>\n",
       "  </thead>\n",
       "  <tbody>\n",
       "    <tr>\n",
       "      <th>0</th>\n",
       "      <td>7.34</td>\n",
       "      <td>6.333</td>\n",
       "      <td>0.460</td>\n",
       "      <td>53.8756</td>\n",
       "      <td>46.48422</td>\n",
       "      <td>3.37640</td>\n",
       "      <td>40.106889</td>\n",
       "      <td>2.913180</td>\n",
       "      <td>0.211600</td>\n",
       "      <td>395.446904</td>\n",
       "      <td>341.194175</td>\n",
       "      <td>24.782776</td>\n",
       "      <td>294.384565</td>\n",
       "      <td>21.382741</td>\n",
       "      <td>1.553144</td>\n",
       "      <td>253.996928</td>\n",
       "      <td>18.449169</td>\n",
       "      <td>1.340063</td>\n",
       "      <td>0.097336</td>\n",
       "    </tr>\n",
       "    <tr>\n",
       "      <th>1</th>\n",
       "      <td>9.53</td>\n",
       "      <td>6.216</td>\n",
       "      <td>0.631</td>\n",
       "      <td>90.8209</td>\n",
       "      <td>59.23848</td>\n",
       "      <td>6.01343</td>\n",
       "      <td>38.638656</td>\n",
       "      <td>3.922296</td>\n",
       "      <td>0.398161</td>\n",
       "      <td>865.523177</td>\n",
       "      <td>564.542714</td>\n",
       "      <td>57.307988</td>\n",
       "      <td>368.226392</td>\n",
       "      <td>37.379481</td>\n",
       "      <td>3.794474</td>\n",
       "      <td>240.177886</td>\n",
       "      <td>24.380992</td>\n",
       "      <td>2.474969</td>\n",
       "      <td>0.251240</td>\n",
       "    </tr>\n",
       "    <tr>\n",
       "      <th>2</th>\n",
       "      <td>10.50</td>\n",
       "      <td>6.373</td>\n",
       "      <td>0.550</td>\n",
       "      <td>110.2500</td>\n",
       "      <td>66.91650</td>\n",
       "      <td>5.77500</td>\n",
       "      <td>40.615129</td>\n",
       "      <td>3.505150</td>\n",
       "      <td>0.302500</td>\n",
       "      <td>1157.625000</td>\n",
       "      <td>702.623250</td>\n",
       "      <td>60.637500</td>\n",
       "      <td>426.458855</td>\n",
       "      <td>36.804075</td>\n",
       "      <td>3.176250</td>\n",
       "      <td>258.840217</td>\n",
       "      <td>22.338321</td>\n",
       "      <td>1.927833</td>\n",
       "      <td>0.166375</td>\n",
       "    </tr>\n",
       "    <tr>\n",
       "      <th>3</th>\n",
       "      <td>19.77</td>\n",
       "      <td>5.349</td>\n",
       "      <td>0.693</td>\n",
       "      <td>390.8529</td>\n",
       "      <td>105.74973</td>\n",
       "      <td>13.70061</td>\n",
       "      <td>28.611801</td>\n",
       "      <td>3.706857</td>\n",
       "      <td>0.480249</td>\n",
       "      <td>7727.161833</td>\n",
       "      <td>2090.672162</td>\n",
       "      <td>270.861060</td>\n",
       "      <td>565.655306</td>\n",
       "      <td>73.284563</td>\n",
       "      <td>9.494523</td>\n",
       "      <td>153.044524</td>\n",
       "      <td>19.827978</td>\n",
       "      <td>2.568852</td>\n",
       "      <td>0.332813</td>\n",
       "    </tr>\n",
       "    <tr>\n",
       "      <th>4</th>\n",
       "      <td>12.34</td>\n",
       "      <td>6.232</td>\n",
       "      <td>0.437</td>\n",
       "      <td>152.2756</td>\n",
       "      <td>76.90288</td>\n",
       "      <td>5.39258</td>\n",
       "      <td>38.837824</td>\n",
       "      <td>2.723384</td>\n",
       "      <td>0.190969</td>\n",
       "      <td>1879.080904</td>\n",
       "      <td>948.981539</td>\n",
       "      <td>66.544437</td>\n",
       "      <td>479.258748</td>\n",
       "      <td>33.606559</td>\n",
       "      <td>2.356557</td>\n",
       "      <td>242.037319</td>\n",
       "      <td>16.972129</td>\n",
       "      <td>1.190119</td>\n",
       "      <td>0.083453</td>\n",
       "    </tr>\n",
       "  </tbody>\n",
       "</table>\n",
       "</div>"
      ],
      "text/plain": [
       "   LSTAT     RM    NOX   LSTAT^2   LSTAT RM  LSTAT NOX       RM^2    RM NOX  \\\n",
       "0   7.34  6.333  0.460   53.8756   46.48422    3.37640  40.106889  2.913180   \n",
       "1   9.53  6.216  0.631   90.8209   59.23848    6.01343  38.638656  3.922296   \n",
       "2  10.50  6.373  0.550  110.2500   66.91650    5.77500  40.615129  3.505150   \n",
       "3  19.77  5.349  0.693  390.8529  105.74973   13.70061  28.611801  3.706857   \n",
       "4  12.34  6.232  0.437  152.2756   76.90288    5.39258  38.837824  2.723384   \n",
       "\n",
       "      NOX^2      LSTAT^3   LSTAT^2 RM  LSTAT^2 NOX  LSTAT RM^2  LSTAT RM NOX  \\\n",
       "0  0.211600   395.446904   341.194175    24.782776  294.384565     21.382741   \n",
       "1  0.398161   865.523177   564.542714    57.307988  368.226392     37.379481   \n",
       "2  0.302500  1157.625000   702.623250    60.637500  426.458855     36.804075   \n",
       "3  0.480249  7727.161833  2090.672162   270.861060  565.655306     73.284563   \n",
       "4  0.190969  1879.080904   948.981539    66.544437  479.258748     33.606559   \n",
       "\n",
       "   LSTAT NOX^2        RM^3   RM^2 NOX  RM NOX^2     NOX^3  \n",
       "0     1.553144  253.996928  18.449169  1.340063  0.097336  \n",
       "1     3.794474  240.177886  24.380992  2.474969  0.251240  \n",
       "2     3.176250  258.840217  22.338321  1.927833  0.166375  \n",
       "3     9.494523  153.044524  19.827978  2.568852  0.332813  \n",
       "4     2.356557  242.037319  16.972129  1.190119  0.083453  "
      ]
     },
     "execution_count": 59,
     "metadata": {},
     "output_type": "execute_result"
    }
   ],
   "source": [
    "test_t = pd.DataFrame(test_t)\n",
    "test_t.columns = poly.get_feature_names(['LSTAT', 'RM', 'NOX'])\n",
    "test_t.head()"
   ]
  },
  {
   "cell_type": "markdown",
   "id": "b19db66e",
   "metadata": {},
   "source": [
    "Remember to pass the list with the features to\n",
    "poly.get_feature_names() in the same order as you did to\n",
    "poly.fit(); otherwise, the feature names will not coincide with the\n",
    "derived polynomial combinations. To create the polynomial features, we used the PolynomialFeatures() transformer from\n",
    "scikit-learn, which generates a new feature matrix consisting of all polynomial\n",
    "combinations of the indicated features with a degree less than or equal to the specified\n",
    "degree. By setting degree to 3, we were able to create all possible polynomial combinations\n",
    "of degree 3 or smaller. To retain all of the terms of the expansion, we set\n",
    "interaction_only to False. And to avoid returning the bias term, we set the\n",
    "include_bias parameter to False.\n",
    "Setting the interaction_only term to True returns only the terms, that\n",
    "is, the variables that contain combinations of two or more variables."
   ]
  },
  {
   "cell_type": "markdown",
   "id": "63d384df",
   "metadata": {},
   "source": [
    "The fit() method learned all of the possible feature combinations based on the\n",
    "parameters specified. At this stage, the transformer did not perform actual mathematical\n",
    "computations. The transform() method performed the mathematical computations with\n",
    "the features to create the new variables. With the get_feature_names() method, we\n",
    "could identify the terms of the expansion, that is, how each new feature was calculated.\n"
   ]
  },
  {
   "cell_type": "markdown",
   "id": "ce876b66",
   "metadata": {},
   "source": [
    "Let's visualize the relationship of the polynomial variables with the target. First, let's run\n",
    "the main recipe as indicated in step 1 to step 8. Then, let's import the Python visualization\n",
    "library and make the plots:"
   ]
  },
  {
   "cell_type": "code",
   "execution_count": 58,
   "id": "d8235297",
   "metadata": {},
   "outputs": [],
   "source": [
    "import matplotlib.pyplot as plt"
   ]
  },
  {
   "cell_type": "code",
   "execution_count": 60,
   "id": "7dc1f850",
   "metadata": {},
   "outputs": [
    {
     "data": {
      "image/png": "[encoded data removed]",
      "text/plain": [
       "<Figure size 864x864 with 20 Axes>"
      ]
     },
     "metadata": {
      "needs_background": "light"
     },
     "output_type": "display_data"
    }
   ],
   "source": [
    "# plot the new features vs the target\n",
    "\n",
    "# https://stackoverflow.com/questions/6541123/improve-subplot-size-spacing-with-many-subplots-in-matplotlib\n",
    "\n",
    "def plot_features(df):\n",
    "\n",
    "    # function plots 9 images\n",
    "    nb_rows = 5\n",
    "    nb_cols = 4\n",
    "    \n",
    "    fig, axs = plt.subplots(nb_rows, nb_cols, figsize = (12, 12))\n",
    "    plt.subplots_adjust(wspace = None, hspace = 0.4)\n",
    "\n",
    "    n = 0\n",
    "    for i in range(0, nb_rows):\n",
    "        for j in range(0, nb_cols):\n",
    "            if n!=19:\n",
    "                axs[i, j].scatter(test_t[test_t.columns[n]], y_test)\n",
    "                axs[i, j].set_title(test_t.columns[n])\n",
    "                n += 1\n",
    "    plt.show()\n",
    "    \n",
    "plot_features(test_t)"
   ]
  },
  {
   "cell_type": "markdown",
   "id": "193531d6",
   "metadata": {},
   "source": [
    "## Deriving new features with decision trees"
   ]
  },
  {
   "cell_type": "markdown",
   "id": "49886ca3",
   "metadata": {},
   "source": [
    "In the winning solution of the KDD competition in 2009, the authors created new features\n",
    "by combining two or more variables using decision trees and then used those variables to\n",
    "train the winning predictive model. This technique is particularly useful to derive features\n",
    "that are monotonic with the target, which is convenient for linear models. The procedure\n",
    "consists of building a decision tree using a subset of the features, typically two or three at a\n",
    "time, and then using the prediction of the tree as a new feature.\n",
    "Creating new features with decision trees not only creates monotonic\n",
    "relationships between features and target, but it also captures feature\n",
    "interactions, which is useful when building models that do not do so\n",
    "automatically, such as linear models."
   ]
  },
  {
   "cell_type": "code",
   "execution_count": 61,
   "id": "658928a6",
   "metadata": {},
   "outputs": [],
   "source": [
    "import pandas as pd\n",
    "from sklearn.datasets import load_boston\n",
    "from sklearn.model_selection import train_test_split\n",
    "from sklearn.tree import DecisionTreeRegressor\n",
    "from sklearn.model_selection import GridSearchCV"
   ]
  },
  {
   "cell_type": "code",
   "execution_count": null,
   "id": "e083325a",
   "metadata": {},
   "outputs": [],
   "source": [
    "# Load Boston Data Set\n",
    "Boston = pd.read_csv('C:/Python_Data_Sets/Boston.csv')\n",
    "Boston.head()"
   ]
  },
  {
   "cell_type": "markdown",
   "id": "e66d23b6",
   "metadata": {},
   "source": [
    "Let's separate the dataset into train and test sets to conform to machine learning\n",
    "best practices:"
   ]
  },
  {
   "cell_type": "code",
   "execution_count": 62,
   "id": "2fd00d65",
   "metadata": {},
   "outputs": [],
   "source": [
    "X_train, X_test, y_train, y_test = train_test_split(Boston.drop('MEDV', axis = 1), Boston['MEDV'], test_size = 0.3,\n",
    "random_state = 0)"
   ]
  },
  {
   "cell_type": "markdown",
   "id": "f72e43f3",
   "metadata": {},
   "source": [
    "In the following lines, we are going to create a new feature from three existing\n",
    "variables in the dataset using a decision tree. We are going to build this decision\n",
    "tree within GridSearch() so that we can optimize one of its parameters.  Let's create a dictionary with the parameter to optimize:"
   ]
  },
  {
   "cell_type": "code",
   "execution_count": 63,
   "id": "34fad45b",
   "metadata": {},
   "outputs": [],
   "source": [
    "param_grid = {'max_depth': [3, 4, None]}"
   ]
  },
  {
   "cell_type": "markdown",
   "id": "00ac7c86",
   "metadata": {},
   "source": [
    "Let's set up the decision tree within a scikit-learn GridSearch() with 5-fold\n",
    "cross-validation, adding the dictionary with the parameters to optimize created\n",
    "earlier, and indicating the metric we would like to optimize:"
   ]
  },
  {
   "cell_type": "code",
   "execution_count": 64,
   "id": "e2b6be21",
   "metadata": {},
   "outputs": [],
   "source": [
    "tree_model = GridSearchCV(DecisionTreeRegressor(random_state = 0),\n",
    " cv = 5,\n",
    " scoring = 'neg_mean_squared_error',\n",
    " param_grid = param_grid)"
   ]
  },
  {
   "cell_type": "markdown",
   "id": "daa00c5f",
   "metadata": {},
   "source": [
    "We use DecisionTreeRegressor() from scikit-learn because the target\n",
    "in this dataset, MEDV, is continuous. If you have a binary target or are\n",
    "performing classification, use DecisionTreeClassifier(), also from\n",
    "scikit-learn. Note that you will have to change the scoring metric to those\n",
    "permitted for classification. Train the decision tree using three selected features from the dataset:"
   ]
  },
  {
   "cell_type": "code",
   "execution_count": 65,
   "id": "44cfbd7a",
   "metadata": {},
   "outputs": [
    {
     "data": {
      "text/plain": [
       "GridSearchCV(cv=5, estimator=DecisionTreeRegressor(random_state=0),\n",
       "             param_grid={'max_depth': [3, 4, None]},\n",
       "             scoring='neg_mean_squared_error')"
      ]
     },
     "execution_count": 65,
     "metadata": {},
     "output_type": "execute_result"
    }
   ],
   "source": [
    "tree_model.fit(X_train[['LSTAT', 'RM', 'NOX']], y_train)"
   ]
  },
  {
   "cell_type": "markdown",
   "id": "5a49c5fd",
   "metadata": {},
   "source": [
    "Derive the new feature using the decision tree in the train and test sets:"
   ]
  },
  {
   "cell_type": "code",
   "execution_count": 66,
   "id": "067e5dab",
   "metadata": {},
   "outputs": [],
   "source": [
    "X_train['new_feat'] = tree_model.predict(X_train[['LSTAT', 'RM',\n",
    "'NOX']])\n",
    "X_test['new_feat'] = tree_model.predict(X_test[['LSTAT', 'RM',\n",
    "'NOX']])"
   ]
  },
  {
   "cell_type": "markdown",
   "id": "9896d2ac",
   "metadata": {},
   "source": [
    "We have now created a new feature by combining the information of three existing features\n",
    "using a decision tree"
   ]
  },
  {
   "cell_type": "code",
   "execution_count": 67,
   "id": "acf6a0dd",
   "metadata": {},
   "outputs": [
    {
     "data": {
      "text/plain": [
       "Text(0.5, 1.0, 'Tree derived feature vs House Price')"
      ]
     },
     "execution_count": 67,
     "metadata": {},
     "output_type": "execute_result"
    },
    {
     "data": {
      "image/png": "[encoded data removed]",
      "text/plain": [
       "<Figure size 432x288 with 1 Axes>"
      ]
     },
     "metadata": {
      "needs_background": "light"
     },
     "output_type": "display_data"
    }
   ],
   "source": [
    "# plot the new feature\n",
    "\n",
    "plt.scatter(X_test['new_feat'], y_test)\n",
    "plt.ylabel('MEDV')\n",
    "plt.xlabel('new_feat')\n",
    "plt.title('Tree derived feature vs House Price')"
   ]
  },
  {
   "cell_type": "markdown",
   "id": "1e638afa",
   "metadata": {},
   "source": [
    "# Carrying Out Principal Component Analysis"
   ]
  },
  {
   "cell_type": "markdown",
   "id": "59b2f438",
   "metadata": {},
   "source": [
    "PCA is a dimensionality reduction technique used to reduce a high dimensional dataset\n",
    "into a smaller subset of Principal Components (PC), which explain most of the variability\n",
    "observed in the original data. The first PC of the data is a vector along which the\n",
    "observations vary the most, or in other words, a linear combination of the variables in the\n",
    "dataset that maximizes the variance. Mathematically, the first PC minimizes the sum of the\n",
    "squared distances between each observation and the PC. The second PC is again a linear\n",
    "combination of the original variables, which captures the largest remaining variance and is\n",
    "subject to the constraint that is perpendicular to the first PC.\n",
    "In general, we can build as many PCs as variables in the dataset. Each PC is a linear\n",
    "combination of the variables, orthogonal to the other components, and maximizes the\n",
    "remaining variance, which is left unexplained by previous PCs. The way these PCs are built\n",
    "means that it is often possible for a few of the first PCs to capture most of the information of\n",
    "the original data, as well as most of its relationships to the target. Here,  we will implement PCA to reduce the dimensions of our data and create new\n",
    "features, the principal components, using scikit-learn.\n"
   ]
  },
  {
   "cell_type": "code",
   "execution_count": 68,
   "id": "9139d301",
   "metadata": {},
   "outputs": [],
   "source": [
    "import pandas as pd\n",
    "import matplotlib.pyplot as plt\n",
    "from sklearn.datasets import load_boston\n",
    "from sklearn.model_selection import train_test_split\n",
    "from sklearn.decomposition import PCA"
   ]
  },
  {
   "cell_type": "code",
   "execution_count": 69,
   "id": "aa1ef6ba",
   "metadata": {},
   "outputs": [
    {
     "data": {
      "text/html": [
       "<div>\n",
       "<style scoped>\n",
       "    .dataframe tbody tr th:only-of-type {\n",
       "        vertical-align: middle;\n",
       "    }\n",
       "\n",
       "    .dataframe tbody tr th {\n",
       "        vertical-align: top;\n",
       "    }\n",
       "\n",
       "    .dataframe thead th {\n",
       "        text-align: right;\n",
       "    }\n",
       "</style>\n",
       "<table border=\"1\" class=\"dataframe\">\n",
       "  <thead>\n",
       "    <tr style=\"text-align: right;\">\n",
       "      <th></th>\n",
       "      <th>CRIM</th>\n",
       "      <th>ZN</th>\n",
       "      <th>INDUS</th>\n",
       "      <th>CHAS</th>\n",
       "      <th>NOX</th>\n",
       "      <th>RM</th>\n",
       "      <th>AGE</th>\n",
       "      <th>DIS</th>\n",
       "      <th>RAD</th>\n",
       "      <th>TAX</th>\n",
       "      <th>PTRATIO</th>\n",
       "      <th>B</th>\n",
       "      <th>LSTAT</th>\n",
       "      <th>MEDV</th>\n",
       "    </tr>\n",
       "  </thead>\n",
       "  <tbody>\n",
       "    <tr>\n",
       "      <th>0</th>\n",
       "      <td>0.00632</td>\n",
       "      <td>18.0</td>\n",
       "      <td>2.31</td>\n",
       "      <td>0</td>\n",
       "      <td>0.538</td>\n",
       "      <td>6.575</td>\n",
       "      <td>65.2</td>\n",
       "      <td>4.0900</td>\n",
       "      <td>1</td>\n",
       "      <td>296</td>\n",
       "      <td>15.3</td>\n",
       "      <td>396.90</td>\n",
       "      <td>4.98</td>\n",
       "      <td>24.0</td>\n",
       "    </tr>\n",
       "    <tr>\n",
       "      <th>1</th>\n",
       "      <td>0.02731</td>\n",
       "      <td>0.0</td>\n",
       "      <td>7.07</td>\n",
       "      <td>0</td>\n",
       "      <td>0.469</td>\n",
       "      <td>6.421</td>\n",
       "      <td>78.9</td>\n",
       "      <td>4.9671</td>\n",
       "      <td>2</td>\n",
       "      <td>242</td>\n",
       "      <td>17.8</td>\n",
       "      <td>396.90</td>\n",
       "      <td>9.14</td>\n",
       "      <td>21.6</td>\n",
       "    </tr>\n",
       "    <tr>\n",
       "      <th>2</th>\n",
       "      <td>0.02729</td>\n",
       "      <td>0.0</td>\n",
       "      <td>7.07</td>\n",
       "      <td>0</td>\n",
       "      <td>0.469</td>\n",
       "      <td>7.185</td>\n",
       "      <td>61.1</td>\n",
       "      <td>4.9671</td>\n",
       "      <td>2</td>\n",
       "      <td>242</td>\n",
       "      <td>17.8</td>\n",
       "      <td>392.83</td>\n",
       "      <td>4.03</td>\n",
       "      <td>34.7</td>\n",
       "    </tr>\n",
       "    <tr>\n",
       "      <th>3</th>\n",
       "      <td>0.03237</td>\n",
       "      <td>0.0</td>\n",
       "      <td>2.18</td>\n",
       "      <td>0</td>\n",
       "      <td>0.458</td>\n",
       "      <td>6.998</td>\n",
       "      <td>45.8</td>\n",
       "      <td>6.0622</td>\n",
       "      <td>3</td>\n",
       "      <td>222</td>\n",
       "      <td>18.7</td>\n",
       "      <td>394.63</td>\n",
       "      <td>2.94</td>\n",
       "      <td>33.4</td>\n",
       "    </tr>\n",
       "    <tr>\n",
       "      <th>4</th>\n",
       "      <td>0.06905</td>\n",
       "      <td>0.0</td>\n",
       "      <td>2.18</td>\n",
       "      <td>0</td>\n",
       "      <td>0.458</td>\n",
       "      <td>7.147</td>\n",
       "      <td>54.2</td>\n",
       "      <td>6.0622</td>\n",
       "      <td>3</td>\n",
       "      <td>222</td>\n",
       "      <td>18.7</td>\n",
       "      <td>396.90</td>\n",
       "      <td>5.33</td>\n",
       "      <td>36.2</td>\n",
       "    </tr>\n",
       "  </tbody>\n",
       "</table>\n",
       "</div>"
      ],
      "text/plain": [
       "      CRIM    ZN  INDUS  CHAS    NOX     RM   AGE     DIS  RAD  TAX  PTRATIO  \\\n",
       "0  0.00632  18.0   2.31     0  0.538  6.575  65.2  4.0900    1  296     15.3   \n",
       "1  0.02731   0.0   7.07     0  0.469  6.421  78.9  4.9671    2  242     17.8   \n",
       "2  0.02729   0.0   7.07     0  0.469  7.185  61.1  4.9671    2  242     17.8   \n",
       "3  0.03237   0.0   2.18     0  0.458  6.998  45.8  6.0622    3  222     18.7   \n",
       "4  0.06905   0.0   2.18     0  0.458  7.147  54.2  6.0622    3  222     18.7   \n",
       "\n",
       "        B  LSTAT  MEDV  \n",
       "0  396.90   4.98  24.0  \n",
       "1  396.90   9.14  21.6  \n",
       "2  392.83   4.03  34.7  \n",
       "3  394.63   2.94  33.4  \n",
       "4  396.90   5.33  36.2  "
      ]
     },
     "execution_count": 69,
     "metadata": {},
     "output_type": "execute_result"
    }
   ],
   "source": [
    "# Load Boston Data Set\n",
    "Boston = pd.read_csv('C:/Python_Data_Sets/Boston.csv')\n",
    "Boston.head()"
   ]
  },
  {
   "cell_type": "markdown",
   "id": "08a1be6d",
   "metadata": {},
   "source": [
    " Separate the dataset into train and test sets:"
   ]
  },
  {
   "cell_type": "code",
   "execution_count": 70,
   "id": "acfc9afb",
   "metadata": {},
   "outputs": [],
   "source": [
    "X_train, X_test, y_train, y_test = train_test_split(\n",
    " Boston.drop('MEDV', axis = 1), Boston['MEDV'], test_size = 0.3,\n",
    "random_state = 0)"
   ]
  },
  {
   "cell_type": "markdown",
   "id": "4c9cf8ce",
   "metadata": {},
   "source": [
    "We are now going to obtain the principal components:\n",
    "Let's set up the PCA transformer from scikit-learn to return all possible\n",
    "components:"
   ]
  },
  {
   "cell_type": "code",
   "execution_count": 71,
   "id": "fec4b6fd",
   "metadata": {},
   "outputs": [],
   "source": [
    "pca = PCA(n_components = None)"
   ]
  },
  {
   "cell_type": "markdown",
   "id": "18dabf75",
   "metadata": {},
   "source": [
    "By setting n_components to None, the transformer will return all of the\n",
    "derived principal components, which are the same number as the number\n",
    "of the original features in the dataset. Let's find the principal components in the train set:"
   ]
  },
  {
   "cell_type": "code",
   "execution_count": 72,
   "id": "928d21c9",
   "metadata": {},
   "outputs": [
    {
     "data": {
      "text/plain": [
       "PCA()"
      ]
     },
     "execution_count": 72,
     "metadata": {},
     "output_type": "execute_result"
    }
   ],
   "source": [
    "pca.fit(X_train)"
   ]
  },
  {
   "cell_type": "markdown",
   "id": "2b01e5d4",
   "metadata": {},
   "source": [
    "Let's obtain the components for both train and test sets:"
   ]
  },
  {
   "cell_type": "code",
   "execution_count": 73,
   "id": "644e90ff",
   "metadata": {},
   "outputs": [],
   "source": [
    "train_t = pca.transform(X_train)\n",
    "test_t = pca.transform(X_test)"
   ]
  },
  {
   "cell_type": "markdown",
   "id": "7738d347",
   "metadata": {},
   "source": [
    "When creating principal components, a few of the components will capture most\n",
    "of the variability of the original data. To identify how many components capture\n",
    "most of the variability in the Boston House Prices dataset, we can plot the\n",
    "percentage of variance explained (by each component) versus the component\n",
    "number. Plot the percentage of the total variance explained by each component:"
   ]
  },
  {
   "cell_type": "code",
   "execution_count": 74,
   "id": "6fe45278",
   "metadata": {},
   "outputs": [
    {
     "data": {
      "text/plain": [
       "Text(0, 0.5, 'Percentage of Variance Explained')"
      ]
     },
     "execution_count": 74,
     "metadata": {},
     "output_type": "execute_result"
    },
    {
     "data": {
      "image/png": "[encoded data removed]",
      "text/plain": [
       "<Figure size 432x288 with 1 Axes>"
      ]
     },
     "metadata": {
      "needs_background": "light"
     },
     "output_type": "display_data"
    }
   ],
   "source": [
    "plt.plot(pca.explained_variance_ratio_)\n",
    "plt.title('Percentage of Variance Explained')\n",
    "plt.xlabel('Number of Components')\n",
    "plt.ylabel('Percentage of Variance Explained')"
   ]
  },
  {
   "cell_type": "markdown",
   "id": "452426c5",
   "metadata": {},
   "source": [
    "Fortunately, the percentage of variance explained is captured and stored\n",
    "within scikit-learn's PCA object, so that we can easily retrieve it to identify\n",
    "the number of components that capture most of the variance. The preceding code returns the previous plot, where we can see that the first\n",
    "two components capture most of the variability of the data. The preceding plot indicates that we can use the first two components to train our machine\n",
    "learning models using a linear model.\n",
    "PCA is sensitive to the scale of the features; therefore, it is advisable, if not\n",
    "compulsory to have features within a similar scale before fitting the PCA\n",
    "object from scikit-learn."
   ]
  },
  {
   "cell_type": "markdown",
   "id": "1053d6bc",
   "metadata": {},
   "source": [
    "The fit() method from the PCA() transformer found the principal components in the\n",
    "train set, that is, the linear combinations of the variables that maximize the variance\n",
    "explained. The transform() method calculated the principal components for each\n",
    "observation. Finally, we plotted the percentage of variance explained by each component\n",
    "versus the component number to identify the minimum number of components that\n",
    "capture most of the variability."
   ]
  },
  {
   "cell_type": "code",
   "execution_count": null,
   "id": "6d1cffea",
   "metadata": {},
   "outputs": [],
   "source": []
  }
 ],
 "metadata": {
  "kernelspec": {
   "display_name": "Python 3 (ipykernel)",
   "language": "python",
   "name": "python3"
  },
  "language_info": {
   "codemirror_mode": {
    "name": "ipython",
    "version": 3
   },
   "file_extension": ".py",
   "mimetype": "text/x-python",
   "name": "python",
   "nbconvert_exporter": "python",
   "pygments_lexer": "ipython3",
   "version": "3.10.0"
  }
 },
 "nbformat": 4,
 "nbformat_minor": 5
}
